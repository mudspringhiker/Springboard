{
 "cells": [
  {
   "cell_type": "markdown",
   "metadata": {},
   "source": [
    "# XML example and exercise\n",
    "****\n",
    "+ study examples of accessing nodes in XML tree structure  \n",
    "+ work on exercise to be completed and submitted\n",
    "****\n",
    "+ reference: https://docs.python.org/2.7/library/xml.etree.elementtree.html\n",
    "+ data source: http://www.dbis.informatik.uni-goettingen.de/Mondial\n",
    "****"
   ]
  },
  {
   "cell_type": "code",
   "execution_count": 2,
   "metadata": {
    "collapsed": true
   },
   "outputs": [],
   "source": [
    "from xml.etree import ElementTree as ET"
   ]
  },
  {
   "cell_type": "markdown",
   "metadata": {},
   "source": [
    "## XML example\n",
    "\n",
    "+ for details about tree traversal and iterators, see https://docs.python.org/2.7/library/xml.etree.elementtree.html"
   ]
  },
  {
   "cell_type": "code",
   "execution_count": 2,
   "metadata": {
    "collapsed": true
   },
   "outputs": [],
   "source": [
    "document_tree = ET.parse( './data/mondial_database_less.xml' )"
   ]
  },
  {
   "cell_type": "code",
   "execution_count": 3,
   "metadata": {
    "collapsed": false
   },
   "outputs": [
    {
     "name": "stdout",
     "output_type": "stream",
     "text": [
      "Albania\n",
      "Greece\n",
      "Macedonia\n",
      "Serbia\n",
      "Montenegro\n",
      "Kosovo\n",
      "Andorra\n"
     ]
    }
   ],
   "source": [
    "# print names of all countries\n",
    "for child in document_tree.getroot():\n",
    "    print child.find('name').text"
   ]
  },
  {
   "cell_type": "code",
   "execution_count": 5,
   "metadata": {
    "collapsed": false
   },
   "outputs": [
    {
     "name": "stdout",
     "output_type": "stream",
     "text": [
      "* Albania: Tirana, Shkodër, Durrës, Vlorë, Elbasan, Korçë\n",
      "* Greece: Komotini, Kavala, Athina, Peiraias, Peristeri, Acharnes, Patra, Kozani, Kerkyra, Ioannina, Thessaloniki, Iraklio, Chania, Ermoupoli, Rhodes, Tripoli, Lamia, Chalkida, Larissa, Volos, Mytilini, Karyes\n",
      "* Macedonia: Skopje, Kumanovo\n",
      "* Serbia: Beograd, Novi Sad, Niš\n",
      "* Montenegro: Podgorica\n",
      "* Kosovo: Prishtine\n",
      "* Andorra: Andorra la Vella\n"
     ]
    }
   ],
   "source": [
    "# print names of all countries and their cities\n",
    "for element in document_tree.iterfind('country'):\n",
    "    print '* ' + element.find('name').text + ':',\n",
    "    capitals_string = ''\n",
    "    for subelement in element.getiterator('city'):\n",
    "        capitals_string += subelement.find('name').text + ', '\n",
    "    print capitals_string[:-2]"
   ]
  },
  {
   "cell_type": "markdown",
   "metadata": {},
   "source": [
    "****\n",
    "## XML exercise\n",
    "\n",
    "Using data in 'data/mondial_database.xml', the examples above, and refering to https://docs.python.org/2.7/library/xml.etree.elementtree.html, find\n",
    "\n",
    "1. 10 countries with the lowest infant mortality rates\n",
    "2. 10 cities with the largest population\n",
    "3. 10 ethnic groups with the largest overall populations (sum of best/latest estimates over all countries)\n",
    "4. name and country of a) longest river, b) largest lake and c) airport at highest elevation"
   ]
  },
  {
   "cell_type": "code",
   "execution_count": 3,
   "metadata": {
    "collapsed": false
   },
   "outputs": [],
   "source": [
    "document = ET.parse( './data/mondial_database.xml' )"
   ]
  },
  {
   "cell_type": "markdown",
   "metadata": {},
   "source": [
    "#### 10 countries with the lowest infant mortality rates"
   ]
  },
  {
   "cell_type": "code",
   "execution_count": 10,
   "metadata": {
    "collapsed": false
   },
   "outputs": [
    {
     "name": "stdout",
     "output_type": "stream",
     "text": [
      "\n"
     ]
    }
   ],
   "source": [
    "infant_mortality = {}\n",
    "for root in document.iterfind('country'):\n",
    "    for subelement in root.iterfind('infant_mortality'):\n",
    "        infant_mortality[root.find('name').text] = float(subelement.text)"
   ]
  },
  {
   "cell_type": "code",
   "execution_count": 11,
   "metadata": {
    "collapsed": true
   },
   "outputs": [
    {
     "data": {
      "text/plain": [
       "{'Afghanistan': 117.23,\n",
       " 'Albania': 13.19,\n",
       " 'Algeria': 21.76,\n",
       " 'American Samoa': 8.92,\n",
       " 'Andorra': 3.69,\n",
       " 'Angola': 79.99,\n",
       " 'Anguilla': 3.4,\n",
       " 'Antigua and Barbuda': 13.29,\n",
       " 'Argentina': 9.96,\n",
       " 'Armenia': 13.97,\n",
       " 'Aruba': 11.74,\n",
       " 'Australia': 4.43,\n",
       " 'Austria': 4.16,\n",
       " 'Azerbaijan': 26.67,\n",
       " 'Bahamas': 12.5,\n",
       " 'Bahrain': 9.68,\n",
       " 'Bangladesh': 45.67,\n",
       " 'Barbados': 10.93,\n",
       " 'Belarus': 3.64,\n",
       " 'Belgium': 4.18,\n",
       " 'Belize': 20.31,\n",
       " 'Benin': 57.09,\n",
       " 'Bermuda': 2.48,\n",
       " 'Bhutan': 37.89,\n",
       " 'Bolivia': 38.61,\n",
       " 'Bosnia and Herzegovina': 5.84,\n",
       " 'Botswana': 9.38,\n",
       " 'Brazil': 19.21,\n",
       " 'British Virgin Islands': 13.45,\n",
       " 'Brunei': 10.48,\n",
       " 'Bulgaria': 15.08,\n",
       " 'Burkina Faso': 76.8,\n",
       " 'Burundi': 63.44,\n",
       " 'Cambodia': 51.36,\n",
       " 'Cameroon': 55.1,\n",
       " 'Canada': 4.71,\n",
       " 'Cape Verde': 24.28,\n",
       " 'Cayman Islands': 6.21,\n",
       " 'Central African Republic': 92.86,\n",
       " 'Chad': 90.3,\n",
       " 'Chile': 7.02,\n",
       " 'China': 14.79,\n",
       " 'Colombia': 15.02,\n",
       " 'Comoros': 65.31,\n",
       " 'Congo': 59.34,\n",
       " 'Cook Islands': 14.33,\n",
       " 'Costa Rica': 8.7,\n",
       " 'Cote dIvoire': 60.16,\n",
       " 'Croatia': 5.87,\n",
       " 'Cuba': 4.7,\n",
       " 'Cyprus': 8.54,\n",
       " 'Czech Republic': 2.63,\n",
       " 'Denmark': 4.1,\n",
       " 'Djibouti': 50.2,\n",
       " 'Dominica': 11.61,\n",
       " 'Dominican Republic': 19.63,\n",
       " 'Ecuador': 17.93,\n",
       " 'Egypt': 22.41,\n",
       " 'El Salvador': 18.44,\n",
       " 'Equatorial Guinea': 71.12,\n",
       " 'Eritrea': 38.44,\n",
       " 'Estonia': 6.7,\n",
       " 'Ethiopia': 55.77,\n",
       " 'Faroe Islands': 5.71,\n",
       " 'Fiji': 10.2,\n",
       " 'Finland': 3.36,\n",
       " 'France': 3.31,\n",
       " 'French Guiana': 14.6,\n",
       " 'French Polynesia': 4.78,\n",
       " 'Gabon': 47.03,\n",
       " 'Gambia': 65.74,\n",
       " 'Gaza Strip': 30.6,\n",
       " 'Georgia': 16.68,\n",
       " 'Germany': 3.46,\n",
       " 'Ghana': 38.52,\n",
       " 'Gibraltar': 6.29,\n",
       " 'Greece': 4.78,\n",
       " 'Greenland': 9.42,\n",
       " 'Grenada': 10.5,\n",
       " 'Guadeloupe': 8.3,\n",
       " 'Guam': 5.51,\n",
       " 'Guatemala': 23.51,\n",
       " 'Guernsey': 3.47,\n",
       " 'Guinea': 55.24,\n",
       " 'Guinea-Bissau': 90.92,\n",
       " 'Guyana': 33.56,\n",
       " 'Haiti': 49.43,\n",
       " 'Honduras': 18.72,\n",
       " 'Hong Kong': 2.73,\n",
       " 'Hungary': 5.09,\n",
       " 'Iceland': 3.15,\n",
       " 'India': 43.19,\n",
       " 'Indonesia': 25.16,\n",
       " 'Iran': 39.0,\n",
       " 'Iraq': 37.53,\n",
       " 'Ireland': 3.74,\n",
       " 'Isle of Man': 4.17,\n",
       " 'Israel': 3.98,\n",
       " 'Italy': 3.31,\n",
       " 'Jamaica': 13.69,\n",
       " 'Japan': 2.13,\n",
       " 'Jersey': 3.86,\n",
       " 'Jordan': 15.73,\n",
       " 'Kazakhstan': 21.61,\n",
       " 'Kenya': 40.71,\n",
       " 'Kiribati': 35.37,\n",
       " 'Kuwait': 7.51,\n",
       " 'Kyrgyzstan': 28.71,\n",
       " 'Laos': 54.53,\n",
       " 'Latvia': 7.91,\n",
       " 'Lebanon': 7.98,\n",
       " 'Lesotho': 50.48,\n",
       " 'Liberia': 69.19,\n",
       " 'Libya': 11.87,\n",
       " 'Liechtenstein': 4.33,\n",
       " 'Lithuania': 6.0,\n",
       " 'Luxembourg': 4.28,\n",
       " 'Macao': 3.13,\n",
       " 'Macedonia': 7.9,\n",
       " 'Madagascar': 44.88,\n",
       " 'Malawi': 48.01,\n",
       " 'Malaysia': 13.69,\n",
       " 'Maldives': 24.59,\n",
       " 'Mali': 104.34,\n",
       " 'Malta': 3.59,\n",
       " 'Marshall Islands': 21.39,\n",
       " 'Martinique': 7.1,\n",
       " 'Mauritania': 56.06,\n",
       " 'Mauritius': 10.59,\n",
       " 'Mayotte': 56.29,\n",
       " 'Mexico': 12.58,\n",
       " 'Micronesia': 21.93,\n",
       " 'Moldova': 12.93,\n",
       " 'Monaco': 1.81,\n",
       " 'Mongolia': 23.15,\n",
       " 'Montserrat': 13.66,\n",
       " 'Morocco': 24.52,\n",
       " 'Mozambique': 72.42,\n",
       " 'Myanmar': 44.91,\n",
       " 'Namibia': 45.64,\n",
       " 'Nauru': 8.21,\n",
       " 'Nepal': 40.43,\n",
       " 'Netherlands': 3.66,\n",
       " 'New Caledonia': 5.46,\n",
       " 'New Zealand': 4.59,\n",
       " 'Nicaragua': 20.36,\n",
       " 'Niger': 86.27,\n",
       " 'Nigeria': 74.09,\n",
       " 'North Korea': 24.5,\n",
       " 'Northern Mariana Islands': 5.5,\n",
       " 'Norway': 2.48,\n",
       " 'Oman': 14.0,\n",
       " 'Pakistan': 57.48,\n",
       " 'Palau': 11.46,\n",
       " 'Panama': 10.7,\n",
       " 'Papua New Guinea': 39.67,\n",
       " 'Paraguay': 20.75,\n",
       " 'Peru': 20.21,\n",
       " 'Philippines': 17.64,\n",
       " 'Poland': 6.19,\n",
       " 'Portugal': 4.48,\n",
       " 'Puerto Rico': 7.73,\n",
       " 'Qatar': 6.42,\n",
       " 'Reunion': 7.5,\n",
       " 'Romania': 10.16,\n",
       " 'Russia': 7.08,\n",
       " 'Rwanda': 59.59,\n",
       " 'Saint Helena': 17.63,\n",
       " 'Saint Kitts and Nevis': 8.98,\n",
       " 'Saint Lucia': 11.75,\n",
       " 'Saint Pierre and Miquelon': 6.95,\n",
       " 'Saint Vincent and the Grenadines': 13.07,\n",
       " 'Samoa': 20.5,\n",
       " 'San Marino': 4.52,\n",
       " 'Sao Tome and Principe': 49.16,\n",
       " 'Saudi Arabia': 14.58,\n",
       " 'Senegal': 52.72,\n",
       " 'Serbia': 6.16,\n",
       " 'Seychelles': 10.77,\n",
       " 'Sierra Leone': 73.29,\n",
       " 'Singapore': 2.53,\n",
       " 'Sint Maarten': 9.05,\n",
       " 'Slovakia': 5.35,\n",
       " 'Slovenia': 4.04,\n",
       " 'Solomon Islands': 16.17,\n",
       " 'Somalia': 100.14,\n",
       " 'South Africa': 41.61,\n",
       " 'South Korea': 3.93,\n",
       " 'South Sudan': 68.16,\n",
       " 'Spain': 3.33,\n",
       " 'Sri Lanka': 9.02,\n",
       " 'Sudan': 52.86,\n",
       " 'Suriname': 27.07,\n",
       " 'Swaziland': 54.82,\n",
       " 'Sweden': 2.6,\n",
       " 'Switzerland': 3.73,\n",
       " 'Syria': 15.79,\n",
       " 'Taiwan': 4.49,\n",
       " 'Tajikistan': 35.03,\n",
       " 'Tanzania': 43.74,\n",
       " 'Thailand': 9.86,\n",
       " 'Timor-Leste': 38.79,\n",
       " 'Togo': 46.73,\n",
       " 'Tonga': 12.36,\n",
       " 'Trinidad and Tobago': 24.82,\n",
       " 'Tunisia': 23.19,\n",
       " 'Turkey': 21.43,\n",
       " 'Turkmenistan': 38.13,\n",
       " 'Turks and Caicos Islands': 10.97,\n",
       " 'Tuvalu': 31.69,\n",
       " 'Uganda': 60.82,\n",
       " 'Ukraine': 8.1,\n",
       " 'United Arab Emirates': 10.92,\n",
       " 'United Kingdom': 4.44,\n",
       " 'United States': 6.17,\n",
       " 'Uruguay': 8.97,\n",
       " 'Uzbekistan': 19.84,\n",
       " 'Vanuatu': 16.41,\n",
       " 'Venezuela': 19.33,\n",
       " 'Vietnam': 18.99,\n",
       " 'Virgin Islands': 6.79,\n",
       " 'Wallis and Futuna': 4.49,\n",
       " 'West Bank': 28.6,\n",
       " 'Western Sahara': 145.82,\n",
       " 'Yemen': 50.41,\n",
       " 'Zaire': 73.15,\n",
       " 'Zambia': 66.62,\n",
       " 'Zimbabwe': 26.55}"
      ]
     },
     "execution_count": 11,
     "metadata": {},
     "output_type": "execute_result"
    }
   ],
   "source": [
    "infant_mortality"
   ]
  },
  {
   "cell_type": "code",
   "execution_count": 12,
   "metadata": {
    "collapsed": true
   },
   "outputs": [],
   "source": [
    "import pandas as pd"
   ]
  },
  {
   "cell_type": "code",
   "execution_count": 14,
   "metadata": {
    "collapsed": false
   },
   "outputs": [
    {
     "name": "stdout",
     "output_type": "stream",
     "text": [
      "\n"
     ]
    }
   ],
   "source": [
    "infantmortality_df = pd.DataFrame.from_dict(infant_mortality, orient = 'index')"
   ]
  },
  {
   "cell_type": "code",
   "execution_count": 15,
   "metadata": {
    "collapsed": true
   },
   "outputs": [],
   "source": [
    "infantmortality_df.columns = ['infant_mortality']"
   ]
  },
  {
   "cell_type": "code",
   "execution_count": 16,
   "metadata": {
    "collapsed": true
   },
   "outputs": [],
   "source": [
    "infantmortality_df.index.names = ['country']"
   ]
  },
  {
   "cell_type": "code",
   "execution_count": 17,
   "metadata": {
    "collapsed": false
   },
   "outputs": [
    {
     "data": {
      "text/html": [
       "<div>\n",
       "<table border=\"1\" class=\"dataframe\">\n",
       "  <thead>\n",
       "    <tr style=\"text-align: right;\">\n",
       "      <th></th>\n",
       "      <th>infant_mortality</th>\n",
       "    </tr>\n",
       "    <tr>\n",
       "      <th>country</th>\n",
       "      <th></th>\n",
       "    </tr>\n",
       "  </thead>\n",
       "  <tbody>\n",
       "    <tr>\n",
       "      <th>Canada</th>\n",
       "      <td>4.71</td>\n",
       "    </tr>\n",
       "    <tr>\n",
       "      <th>Sao Tome and Principe</th>\n",
       "      <td>49.16</td>\n",
       "    </tr>\n",
       "    <tr>\n",
       "      <th>Turkmenistan</th>\n",
       "      <td>38.13</td>\n",
       "    </tr>\n",
       "    <tr>\n",
       "      <th>Saint Helena</th>\n",
       "      <td>17.63</td>\n",
       "    </tr>\n",
       "    <tr>\n",
       "      <th>Lithuania</th>\n",
       "      <td>6.00</td>\n",
       "    </tr>\n",
       "  </tbody>\n",
       "</table>\n",
       "</div>"
      ],
      "text/plain": [
       "                       infant_mortality\n",
       "country                                \n",
       "Canada                             4.71\n",
       "Sao Tome and Principe             49.16\n",
       "Turkmenistan                      38.13\n",
       "Saint Helena                      17.63\n",
       "Lithuania                          6.00"
      ]
     },
     "execution_count": 17,
     "metadata": {},
     "output_type": "execute_result"
    }
   ],
   "source": [
    "infantmortality_df.head()"
   ]
  },
  {
   "cell_type": "code",
   "execution_count": 22,
   "metadata": {
    "collapsed": false
   },
   "outputs": [
    {
     "data": {
      "text/html": [
       "<div>\n",
       "<table border=\"1\" class=\"dataframe\">\n",
       "  <thead>\n",
       "    <tr style=\"text-align: right;\">\n",
       "      <th></th>\n",
       "      <th>infant_mortality</th>\n",
       "    </tr>\n",
       "    <tr>\n",
       "      <th>country</th>\n",
       "      <th></th>\n",
       "    </tr>\n",
       "  </thead>\n",
       "  <tbody>\n",
       "    <tr>\n",
       "      <th>Monaco</th>\n",
       "      <td>1.81</td>\n",
       "    </tr>\n",
       "    <tr>\n",
       "      <th>Japan</th>\n",
       "      <td>2.13</td>\n",
       "    </tr>\n",
       "    <tr>\n",
       "      <th>Norway</th>\n",
       "      <td>2.48</td>\n",
       "    </tr>\n",
       "    <tr>\n",
       "      <th>Bermuda</th>\n",
       "      <td>2.48</td>\n",
       "    </tr>\n",
       "    <tr>\n",
       "      <th>Singapore</th>\n",
       "      <td>2.53</td>\n",
       "    </tr>\n",
       "    <tr>\n",
       "      <th>Sweden</th>\n",
       "      <td>2.60</td>\n",
       "    </tr>\n",
       "    <tr>\n",
       "      <th>Czech Republic</th>\n",
       "      <td>2.63</td>\n",
       "    </tr>\n",
       "    <tr>\n",
       "      <th>Hong Kong</th>\n",
       "      <td>2.73</td>\n",
       "    </tr>\n",
       "    <tr>\n",
       "      <th>Macao</th>\n",
       "      <td>3.13</td>\n",
       "    </tr>\n",
       "    <tr>\n",
       "      <th>Iceland</th>\n",
       "      <td>3.15</td>\n",
       "    </tr>\n",
       "  </tbody>\n",
       "</table>\n",
       "</div>"
      ],
      "text/plain": [
       "                infant_mortality\n",
       "country                         \n",
       "Monaco                      1.81\n",
       "Japan                       2.13\n",
       "Norway                      2.48\n",
       "Bermuda                     2.48\n",
       "Singapore                   2.53\n",
       "Sweden                      2.60\n",
       "Czech Republic              2.63\n",
       "Hong Kong                   2.73\n",
       "Macao                       3.13\n",
       "Iceland                     3.15"
      ]
     },
     "execution_count": 22,
     "metadata": {},
     "output_type": "execute_result"
    }
   ],
   "source": [
    "infantmortality_df.sort_values(by = 'infant_mortality', ascending = True). head(10)"
   ]
  },
  {
   "cell_type": "markdown",
   "metadata": {},
   "source": [
    "#### 10 cities with the largest population"
   ]
  },
  {
   "cell_type": "code",
   "execution_count": 23,
   "metadata": {
    "collapsed": true
   },
   "outputs": [],
   "source": [
    "current_pop = 0\n",
    "current_pop_year = 0\n",
    "citypop = {}\n",
    "\n",
    "for country in document.iterfind('country'):\n",
    "    for city in country.getiterator('city'):\n",
    "        for subelement in city.iterfind('population'):\n",
    "            if int(subelement.attrib['year']) > current_pop_year:\n",
    "                current_pop = int(subelement.text)\n",
    "                current_pop_year = int(subelement.attrib['year'])\n",
    "        citypop[city.findtext('name')] = current_pop\n",
    "        current_pop = 0\n",
    "        current_pop_year = 0"
   ]
  },
  {
   "cell_type": "code",
   "execution_count": 24,
   "metadata": {
    "collapsed": true
   },
   "outputs": [],
   "source": [
    "citypop_df = pd.DataFrame.from_dict(citypop, orient = 'index')"
   ]
  },
  {
   "cell_type": "code",
   "execution_count": 25,
   "metadata": {
    "collapsed": true
   },
   "outputs": [],
   "source": [
    "citypop_df.columns = ['population']"
   ]
  },
  {
   "cell_type": "code",
   "execution_count": 26,
   "metadata": {
    "collapsed": true
   },
   "outputs": [],
   "source": [
    "citypop_df.index.names = ['city']"
   ]
  },
  {
   "cell_type": "code",
   "execution_count": 27,
   "metadata": {
    "collapsed": false
   },
   "outputs": [
    {
     "data": {
      "text/html": [
       "<div>\n",
       "<table border=\"1\" class=\"dataframe\">\n",
       "  <thead>\n",
       "    <tr style=\"text-align: right;\">\n",
       "      <th></th>\n",
       "      <th>population</th>\n",
       "    </tr>\n",
       "    <tr>\n",
       "      <th>city</th>\n",
       "      <th></th>\n",
       "    </tr>\n",
       "  </thead>\n",
       "  <tbody>\n",
       "    <tr>\n",
       "      <th>Shanghai</th>\n",
       "      <td>22315474</td>\n",
       "    </tr>\n",
       "    <tr>\n",
       "      <th>Istanbul</th>\n",
       "      <td>13710512</td>\n",
       "    </tr>\n",
       "    <tr>\n",
       "      <th>Mumbai</th>\n",
       "      <td>12442373</td>\n",
       "    </tr>\n",
       "    <tr>\n",
       "      <th>Moskva</th>\n",
       "      <td>11979529</td>\n",
       "    </tr>\n",
       "    <tr>\n",
       "      <th>Beijing</th>\n",
       "      <td>11716620</td>\n",
       "    </tr>\n",
       "    <tr>\n",
       "      <th>São Paulo</th>\n",
       "      <td>11152344</td>\n",
       "    </tr>\n",
       "    <tr>\n",
       "      <th>Tianjin</th>\n",
       "      <td>11090314</td>\n",
       "    </tr>\n",
       "    <tr>\n",
       "      <th>Guangzhou</th>\n",
       "      <td>11071424</td>\n",
       "    </tr>\n",
       "    <tr>\n",
       "      <th>Delhi</th>\n",
       "      <td>11034555</td>\n",
       "    </tr>\n",
       "    <tr>\n",
       "      <th>Shenzhen</th>\n",
       "      <td>10358381</td>\n",
       "    </tr>\n",
       "  </tbody>\n",
       "</table>\n",
       "</div>"
      ],
      "text/plain": [
       "           population\n",
       "city                 \n",
       "Shanghai     22315474\n",
       "Istanbul     13710512\n",
       "Mumbai       12442373\n",
       "Moskva       11979529\n",
       "Beijing      11716620\n",
       "São Paulo    11152344\n",
       "Tianjin      11090314\n",
       "Guangzhou    11071424\n",
       "Delhi        11034555\n",
       "Shenzhen     10358381"
      ]
     },
     "execution_count": 27,
     "metadata": {},
     "output_type": "execute_result"
    }
   ],
   "source": [
    "citypop_df.sort_values(by='population', ascending=False).head(10)"
   ]
  },
  {
   "cell_type": "code",
   "execution_count": null,
   "metadata": {
    "collapsed": true
   },
   "outputs": [],
   "source": []
  },
  {
   "cell_type": "code",
   "execution_count": null,
   "metadata": {
    "collapsed": true
   },
   "outputs": [],
   "source": []
  },
  {
   "cell_type": "code",
   "execution_count": null,
   "metadata": {
    "collapsed": true
   },
   "outputs": [],
   "source": []
  },
  {
   "cell_type": "markdown",
   "metadata": {},
   "source": [
    "#### 10 ethnic groups with the largest overall populations (sum of best/latest estimates over all countries)"
   ]
  },
  {
   "cell_type": "code",
   "execution_count": 30,
   "metadata": {
    "collapsed": true
   },
   "outputs": [],
   "source": [
    "eg = {}\n",
    "current_pop = 0\n",
    "current_pop_year = 0"
   ]
  },
  {
   "cell_type": "code",
   "execution_count": 37,
   "metadata": {
    "collapsed": false
   },
   "outputs": [],
   "source": [
    "for country in document.iterfind('country'):\n",
    "    for population in country.getiterator('population'):\n",
    "        if int(population.attrib['year']) > current_pop_year:\n",
    "            current_pop = int(population.text)\n",
    "            current_pop_year = int(population.attrib['year'])\n",
    "    for ethn_gp in country.iterfind('ethnicgroup'):\n",
    "        if ethn_gp.text in eg:\n",
    "            eg[ethn_gp.text] += current_pop*float(ethn_gp.attrib['percentage'])/100\n",
    "        else:\n",
    "            eg[ethn_gp.text] = current_pop*float(ethn_gp.attrib['percentage'])/100        \n",
    "    current_pop = 0\n",
    "    current_pop_year = 0"
   ]
  },
  {
   "cell_type": "code",
   "execution_count": 38,
   "metadata": {
    "collapsed": true
   },
   "outputs": [],
   "source": [
    "ethnic_df = pd.DataFrame.from_dict(eg, orient='index')"
   ]
  },
  {
   "cell_type": "code",
   "execution_count": 39,
   "metadata": {
    "collapsed": false
   },
   "outputs": [
    {
     "data": {
      "text/html": [
       "<div>\n",
       "<table border=\"1\" class=\"dataframe\">\n",
       "  <thead>\n",
       "    <tr style=\"text-align: right;\">\n",
       "      <th></th>\n",
       "      <th>population</th>\n",
       "    </tr>\n",
       "    <tr>\n",
       "      <th>ethnic_group</th>\n",
       "      <th></th>\n",
       "    </tr>\n",
       "  </thead>\n",
       "  <tbody>\n",
       "    <tr>\n",
       "      <th>Han Chinese</th>\n",
       "      <td>1.245059e+09</td>\n",
       "    </tr>\n",
       "    <tr>\n",
       "      <th>Indo-Aryan</th>\n",
       "      <td>8.718156e+08</td>\n",
       "    </tr>\n",
       "    <tr>\n",
       "      <th>European</th>\n",
       "      <td>4.948722e+08</td>\n",
       "    </tr>\n",
       "    <tr>\n",
       "      <th>African</th>\n",
       "      <td>3.183251e+08</td>\n",
       "    </tr>\n",
       "    <tr>\n",
       "      <th>Dravidian</th>\n",
       "      <td>3.027137e+08</td>\n",
       "    </tr>\n",
       "    <tr>\n",
       "      <th>Mestizo</th>\n",
       "      <td>1.577344e+08</td>\n",
       "    </tr>\n",
       "    <tr>\n",
       "      <th>Bengali</th>\n",
       "      <td>1.467769e+08</td>\n",
       "    </tr>\n",
       "    <tr>\n",
       "      <th>Russian</th>\n",
       "      <td>1.304840e+08</td>\n",
       "    </tr>\n",
       "    <tr>\n",
       "      <th>Japanese</th>\n",
       "      <td>1.265342e+08</td>\n",
       "    </tr>\n",
       "    <tr>\n",
       "      <th>Malay</th>\n",
       "      <td>1.219936e+08</td>\n",
       "    </tr>\n",
       "  </tbody>\n",
       "</table>\n",
       "</div>"
      ],
      "text/plain": [
       "                population\n",
       "ethnic_group              \n",
       "Han Chinese   1.245059e+09\n",
       "Indo-Aryan    8.718156e+08\n",
       "European      4.948722e+08\n",
       "African       3.183251e+08\n",
       "Dravidian     3.027137e+08\n",
       "Mestizo       1.577344e+08\n",
       "Bengali       1.467769e+08\n",
       "Russian       1.304840e+08\n",
       "Japanese      1.265342e+08\n",
       "Malay         1.219936e+08"
      ]
     },
     "execution_count": 39,
     "metadata": {},
     "output_type": "execute_result"
    }
   ],
   "source": [
    "ethnic_df.columns = ['population']\n",
    "ethnic_df.index.names = ['ethnic_group']\n",
    "ethnic_df.groupby(ethnic_df.index).sum().sort_values(by='population', ascending=False).head(10)"
   ]
  },
  {
   "cell_type": "code",
   "execution_count": null,
   "metadata": {
    "collapsed": true
   },
   "outputs": [],
   "source": []
  },
  {
   "cell_type": "code",
   "execution_count": null,
   "metadata": {
    "collapsed": true
   },
   "outputs": [],
   "source": []
  },
  {
   "cell_type": "code",
   "execution_count": null,
   "metadata": {
    "collapsed": true
   },
   "outputs": [],
   "source": []
  },
  {
   "cell_type": "markdown",
   "metadata": {},
   "source": [
    "#### name and country of a) longest river, b) largest lake and c) airport at highest elevation"
   ]
  },
  {
   "cell_type": "code",
   "execution_count": 55,
   "metadata": {
    "collapsed": true
   },
   "outputs": [],
   "source": [
    "river_country=None\n",
    "river_name=None\n",
    "river_length=0\n",
    "lake_country=None\n",
    "lake_name=None\n",
    "lake_area=0\n",
    "airport_country=None\n",
    "airport_name=None\n",
    "airport_elv=0"
   ]
  },
  {
   "cell_type": "code",
   "execution_count": 56,
   "metadata": {
    "collapsed": true
   },
   "outputs": [],
   "source": [
    "for river in document.iterfind('river'):\n",
    "    for length in river.iterfind('length'):\n",
    "        if river_length < float(length.text):\n",
    "            river_length = float(length.text)\n",
    "            river_country = river.attrib['country']\n",
    "            river_name = river.findtext('name')"
   ]
  },
  {
   "cell_type": "code",
   "execution_count": 57,
   "metadata": {
    "collapsed": false
   },
   "outputs": [],
   "source": [
    "for lake in document.iterfind('lake'):\n",
    "    for area in lake.iterfind('area'):\n",
    "        if lake_area < float(area.text):\n",
    "            lake_area = float(area.text)\n",
    "            lake_country = lake.attrib['country']\n",
    "            lake_name = lake.findtext('name')"
   ]
  },
  {
   "cell_type": "code",
   "execution_count": 58,
   "metadata": {
    "collapsed": false
   },
   "outputs": [],
   "source": [
    "for airport in document.iterfind('airport'):\n",
    "    for elv in airport.iterfind('elevation'):\n",
    "        if (elv.text is not None) and (airport_elv < float(elv.text)):\n",
    "            airport_elv = float(elv.text)\n",
    "            airport_country = airport.attrib['country']\n",
    "            airport_name = airport.findtext('name')"
   ]
  },
  {
   "cell_type": "code",
   "execution_count": 59,
   "metadata": {
    "collapsed": false
   },
   "outputs": [],
   "source": [
    "data = [[lake_name, river_name, airport_name], [lake_country, river_country, airport_country], [lake_area, river_length, airport_elv]]"
   ]
  },
  {
   "cell_type": "code",
   "execution_count": 60,
   "metadata": {
    "collapsed": true
   },
   "outputs": [],
   "source": [
    "df = pd.DataFrame(data, columns = ['Largest Lake', 'Longest River', 'Highest Airport'], index=['Name', 'Location (Country Code)', 'Metric Value'])"
   ]
  },
  {
   "cell_type": "code",
   "execution_count": 61,
   "metadata": {
    "collapsed": false
   },
   "outputs": [
    {
     "data": {
      "text/html": [
       "<div>\n",
       "<table border=\"1\" class=\"dataframe\">\n",
       "  <thead>\n",
       "    <tr style=\"text-align: right;\">\n",
       "      <th></th>\n",
       "      <th>Largest Lake</th>\n",
       "      <th>Longest River</th>\n",
       "      <th>Highest Airport</th>\n",
       "    </tr>\n",
       "  </thead>\n",
       "  <tbody>\n",
       "    <tr>\n",
       "      <th>Name</th>\n",
       "      <td>Caspian Sea</td>\n",
       "      <td>Amazonas</td>\n",
       "      <td>El Alto Intl</td>\n",
       "    </tr>\n",
       "    <tr>\n",
       "      <th>Location (Country Code)</th>\n",
       "      <td>R AZ KAZ IR TM</td>\n",
       "      <td>CO BR PE</td>\n",
       "      <td>BOL</td>\n",
       "    </tr>\n",
       "    <tr>\n",
       "      <th>Metric Value</th>\n",
       "      <td>386400</td>\n",
       "      <td>6448</td>\n",
       "      <td>4063</td>\n",
       "    </tr>\n",
       "  </tbody>\n",
       "</table>\n",
       "</div>"
      ],
      "text/plain": [
       "                           Largest Lake Longest River Highest Airport\n",
       "Name                        Caspian Sea      Amazonas    El Alto Intl\n",
       "Location (Country Code)  R AZ KAZ IR TM      CO BR PE             BOL\n",
       "Metric Value                     386400          6448            4063"
      ]
     },
     "execution_count": 61,
     "metadata": {},
     "output_type": "execute_result"
    }
   ],
   "source": [
    "df"
   ]
  },
  {
   "cell_type": "code",
   "execution_count": null,
   "metadata": {
    "collapsed": true
   },
   "outputs": [],
   "source": []
  }
 ],
 "metadata": {
  "kernelspec": {
   "display_name": "Python 2",
   "language": "python",
   "name": "python2"
  },
  "language_info": {
   "codemirror_mode": {
    "name": "ipython",
    "version": 2
   },
   "file_extension": ".py",
   "mimetype": "text/x-python",
   "name": "python",
   "nbconvert_exporter": "python",
   "pygments_lexer": "ipython2",
   "version": "2.7.11"
  }
 },
 "nbformat": 4,
 "nbformat_minor": 0
}
